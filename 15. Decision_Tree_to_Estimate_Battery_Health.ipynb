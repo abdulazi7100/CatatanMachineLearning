{
  "nbformat": 4,
  "nbformat_minor": 0,
  "metadata": {
    "colab": {
      "provenance": []
    },
    "kernelspec": {
      "name": "python3",
      "display_name": "Python 3"
    },
    "language_info": {
      "name": "python"
    }
  },
  "cells": [
    {
      "cell_type": "markdown",
      "source": [
        "# BATTERY HEALTH ESTIMATION USING DECISION TREE"
      ],
      "metadata": {
        "id": "asVh9prKMXue"
      }
    },
    {
      "cell_type": "markdown",
      "source": [
        "# Load dataset dan melakukan penggabungan data"
      ],
      "metadata": {
        "id": "sTLKeevq6Y5o"
      }
    },
    {
      "cell_type": "code",
      "source": [
        "# prompt: Tolong buatkan kode untuk menggabungkan data B5_no_outliers, B6_no_outliers, B7_no_outliers dan B18_no_outliers\n",
        "\n",
        "import pandas as pd\n",
        "\n",
        "# Memuat data\n",
        "B5_no_outliers = pd.read_csv('B5_no_outliers.csv')\n",
        "B6_no_outliers = pd.read_csv('B6_no_outliers.csv')\n",
        "B7_no_outliers = pd.read_csv('B7_no_outliers.csv')\n",
        "B18_no_outliers = pd.read_csv('B18_no_outliers.csv')\n",
        "\n",
        "# Menggabungkan data\n",
        "# Anda dapat memilih metode penggabungan yang sesuai dengan kebutuhan Anda.\n",
        "# Contoh ini menggunakan pd.concat untuk menggabungkan DataFrame secara vertikal.\n",
        "# Pastikan kolom-kolom pada setiap DataFrame sesuai.\n",
        "\n",
        "data = pd.concat([B5_no_outliers, B6_no_outliers, B7_no_outliers, B18_no_outliers], ignore_index=True)\n",
        "\n",
        "# Menampilkan beberapa baris pertama dari data yang digabung\n",
        "print(data.head())\n",
        "\n",
        "# Menampilkan informasi ringkasan data yang digabung\n",
        "print(data.info())\n",
        "\n",
        "# Anda dapat menyimpan data yang digabung ke file baru jika diperlukan\n",
        "# data_gabungan.to_csv('data_gabungan.csv', index=False)\n"
      ],
      "metadata": {
        "colab": {
          "base_uri": "https://localhost:8080/"
        },
        "id": "hSVpZKA40OI8",
        "outputId": "521b21af-7efd-42f5-d6e5-1b274d737a1a",
        "collapsed": true
      },
      "execution_count": 7,
      "outputs": [
        {
          "output_type": "stream",
          "name": "stdout",
          "text": [
            "   Cycle      CVCT      CCCT        TCT      AVCC      ACCV        TES  \\\n",
            "0    1.0  7365.031  3295.203  10510.500  3.938468  0.337986  3648.3038   \n",
            "1    2.0  7336.516  3292.015  10479.000  3.938271  0.338634  3642.4987   \n",
            "2    3.0  7270.172  3270.703  10392.437  3.939704  0.342116  3635.4780   \n",
            "3    4.0  7357.391  3269.672  10489.750  3.937890  0.335312  3625.7718   \n",
            "4    5.0  7653.984  3271.094  10787.219  3.936450  0.324397  3625.2148   \n",
            "\n",
            "           IVCC        IVCCCV    RMSVCC   SkewVCC   KurtVCC    RMSCCV  \\\n",
            "0  13169.073485  43532.522430  3.941282 -0.733559  0.775162  0.530744   \n",
            "1  13152.242170  43393.248950  3.940939 -0.625230  0.600176  0.531930   \n",
            "2  13067.226735  43034.623375  3.942210 -0.529928  0.436963  0.535404   \n",
            "3  13058.280595  43434.649985  3.940433 -0.548428  0.468969  0.529358   \n",
            "4  13060.646590  44680.774810  3.939036 -0.570282  0.521506  0.520023   \n",
            "\n",
            "    SkewCCV   KurtCCV  capacity       soh  \n",
            "0  1.589356  1.469541  1.846327  1.000000  \n",
            "1  1.575657  1.428890  1.835349  0.994054  \n",
            "2  1.563766  1.380404  1.835263  0.994007  \n",
            "3  1.572106  1.419318  1.834646  0.993673  \n",
            "4  1.612464  1.569586  1.835662  0.994223  \n",
            "<class 'pandas.core.frame.DataFrame'>\n",
            "RangeIndex: 636 entries, 0 to 635\n",
            "Data columns (total 17 columns):\n",
            " #   Column    Non-Null Count  Dtype  \n",
            "---  ------    --------------  -----  \n",
            " 0   Cycle     636 non-null    float64\n",
            " 1   CVCT      636 non-null    float64\n",
            " 2   CCCT      636 non-null    float64\n",
            " 3   TCT       636 non-null    float64\n",
            " 4   AVCC      636 non-null    float64\n",
            " 5   ACCV      636 non-null    float64\n",
            " 6   TES       636 non-null    float64\n",
            " 7   IVCC      636 non-null    float64\n",
            " 8   IVCCCV    636 non-null    float64\n",
            " 9   RMSVCC    636 non-null    float64\n",
            " 10  SkewVCC   636 non-null    float64\n",
            " 11  KurtVCC   636 non-null    float64\n",
            " 12  RMSCCV    636 non-null    float64\n",
            " 13  SkewCCV   636 non-null    float64\n",
            " 14  KurtCCV   636 non-null    float64\n",
            " 15  capacity  636 non-null    float64\n",
            " 16  soh       636 non-null    float64\n",
            "dtypes: float64(17)\n",
            "memory usage: 84.6 KB\n",
            "None\n"
          ]
        }
      ]
    },
    {
      "cell_type": "markdown",
      "source": [
        "# Uji korelasi dari setiap fitur dengan soh"
      ],
      "metadata": {
        "id": "wG7Bm64W6e1p"
      }
    },
    {
      "cell_type": "code",
      "source": [
        "# prompt: Tolong buatkan korelasi antara fitur 'CVCT', 'CCCT', 'TCT', 'AVCC', 'ACCV', 'TES', 'IVCC', 'IVCCCV',  'RMSVCC', 'SkewVCC', 'KurtVCC', 'RMSCCV', 'SkewCCV', 'KurtCCV' pada data dengan soh\n",
        "\n",
        "# Daftar fitur yang akan dianalisis korelasinya\n",
        "features = ['CVCT', 'CCCT', 'TCT', 'AVCC', 'ACCV', 'TES', 'IVCC', 'IVCCCV', 'RMSVCC', 'SkewVCC', 'KurtVCC', 'RMSCCV', 'SkewCCV', 'KurtCCV', 'soh']\n",
        "\n",
        "# Memilih kolom yang relevan untuk analisis korelasi\n",
        "data_subset = data[features]\n",
        "\n",
        "# Menghitung matriks korelasi\n",
        "correlation_matrix = data_subset.corr()\n",
        "\n",
        "# Mendapatkan korelasi antara fitur-fitur yang dipilih dengan 'soh'\n",
        "soh_correlation = correlation_matrix['soh']\n",
        "\n",
        "# Menampilkan hasil korelasi\n",
        "print(\"Korelasi fitur-fitur dengan 'soh':\")\n",
        "soh_correlation\n"
      ],
      "metadata": {
        "colab": {
          "base_uri": "https://localhost:8080/",
          "height": 572
        },
        "id": "5mj-FeMp1_as",
        "outputId": "3958ae90-33e2-44bb-9caf-c01a740f2787",
        "collapsed": true
      },
      "execution_count": 8,
      "outputs": [
        {
          "output_type": "stream",
          "name": "stdout",
          "text": [
            "Korelasi fitur-fitur dengan 'soh':\n"
          ]
        },
        {
          "output_type": "execute_result",
          "data": {
            "text/plain": [
              "CVCT      -0.829302\n",
              "CCCT       0.979649\n",
              "TCT       -0.118981\n",
              "AVCC      -0.885703\n",
              "ACCV       0.108313\n",
              "TES       -0.127765\n",
              "IVCC       0.979112\n",
              "IVCCCV    -0.207240\n",
              "RMSVCC    -0.887104\n",
              "SkewVCC   -0.187644\n",
              "KurtVCC    0.485275\n",
              "RMSCCV     0.161047\n",
              "SkewCCV   -0.116699\n",
              "KurtCCV   -0.054186\n",
              "soh        1.000000\n",
              "Name: soh, dtype: float64"
            ],
            "text/html": [
              "<div>\n",
              "<style scoped>\n",
              "    .dataframe tbody tr th:only-of-type {\n",
              "        vertical-align: middle;\n",
              "    }\n",
              "\n",
              "    .dataframe tbody tr th {\n",
              "        vertical-align: top;\n",
              "    }\n",
              "\n",
              "    .dataframe thead th {\n",
              "        text-align: right;\n",
              "    }\n",
              "</style>\n",
              "<table border=\"1\" class=\"dataframe\">\n",
              "  <thead>\n",
              "    <tr style=\"text-align: right;\">\n",
              "      <th></th>\n",
              "      <th>soh</th>\n",
              "    </tr>\n",
              "  </thead>\n",
              "  <tbody>\n",
              "    <tr>\n",
              "      <th>CVCT</th>\n",
              "      <td>-0.829302</td>\n",
              "    </tr>\n",
              "    <tr>\n",
              "      <th>CCCT</th>\n",
              "      <td>0.979649</td>\n",
              "    </tr>\n",
              "    <tr>\n",
              "      <th>TCT</th>\n",
              "      <td>-0.118981</td>\n",
              "    </tr>\n",
              "    <tr>\n",
              "      <th>AVCC</th>\n",
              "      <td>-0.885703</td>\n",
              "    </tr>\n",
              "    <tr>\n",
              "      <th>ACCV</th>\n",
              "      <td>0.108313</td>\n",
              "    </tr>\n",
              "    <tr>\n",
              "      <th>TES</th>\n",
              "      <td>-0.127765</td>\n",
              "    </tr>\n",
              "    <tr>\n",
              "      <th>IVCC</th>\n",
              "      <td>0.979112</td>\n",
              "    </tr>\n",
              "    <tr>\n",
              "      <th>IVCCCV</th>\n",
              "      <td>-0.207240</td>\n",
              "    </tr>\n",
              "    <tr>\n",
              "      <th>RMSVCC</th>\n",
              "      <td>-0.887104</td>\n",
              "    </tr>\n",
              "    <tr>\n",
              "      <th>SkewVCC</th>\n",
              "      <td>-0.187644</td>\n",
              "    </tr>\n",
              "    <tr>\n",
              "      <th>KurtVCC</th>\n",
              "      <td>0.485275</td>\n",
              "    </tr>\n",
              "    <tr>\n",
              "      <th>RMSCCV</th>\n",
              "      <td>0.161047</td>\n",
              "    </tr>\n",
              "    <tr>\n",
              "      <th>SkewCCV</th>\n",
              "      <td>-0.116699</td>\n",
              "    </tr>\n",
              "    <tr>\n",
              "      <th>KurtCCV</th>\n",
              "      <td>-0.054186</td>\n",
              "    </tr>\n",
              "    <tr>\n",
              "      <th>soh</th>\n",
              "      <td>1.000000</td>\n",
              "    </tr>\n",
              "  </tbody>\n",
              "</table>\n",
              "</div><br><label><b>dtype:</b> float64</label>"
            ]
          },
          "metadata": {},
          "execution_count": 8
        }
      ]
    },
    {
      "cell_type": "code",
      "source": [
        "# prompt: tolong urutkan dari nilai korelasi terbesar ke terkecil\n",
        "\n",
        "# Mengurutkan korelasi dari nilai terbesar ke terkecil (nilai absolut)\n",
        "# Menggunakan abs() untuk mengurutkan berdasarkan kekuatan korelasi, terlepas dari arahnya (positif atau negatif)\n",
        "# Anda bisa menghapus abs() jika ingin mengurutkan berdasarkan nilai korelasi sebenarnya\n",
        "sorted_soh_correlation = soh_correlation.abs().sort_values(ascending=False)\n",
        "\n",
        "# Menampilkan hasil korelasi yang sudah diurutkan\n",
        "print(\"\\nKorelasi fitur-fitur dengan 'soh' (diurutkan berdasarkan nilai absolut):\")\n",
        "sorted_soh_correlation\n",
        "\n",
        "# Jika Anda ingin mengurutkan berdasarkan nilai korelasi sebenarnya dari terbesar ke terkecil:\n",
        "# sorted_soh_correlation_actual = soh_correlation.sort_values(ascending=False)\n",
        "# print(\"\\nKorelasi fitur-fitur dengan 'soh' (diurutkan berdasarkan nilai sebenarnya):\")\n",
        "# print(sorted_soh_correlation_actual)\n"
      ],
      "metadata": {
        "colab": {
          "base_uri": "https://localhost:8080/",
          "height": 589
        },
        "id": "JeWW8jmv3Vmd",
        "outputId": "dad539e0-980c-4e99-81b0-cfc6273ba665",
        "collapsed": true
      },
      "execution_count": 9,
      "outputs": [
        {
          "output_type": "stream",
          "name": "stdout",
          "text": [
            "\n",
            "Korelasi fitur-fitur dengan 'soh' (diurutkan berdasarkan nilai absolut):\n"
          ]
        },
        {
          "output_type": "execute_result",
          "data": {
            "text/plain": [
              "soh        1.000000\n",
              "CCCT       0.979649\n",
              "IVCC       0.979112\n",
              "RMSVCC     0.887104\n",
              "AVCC       0.885703\n",
              "CVCT       0.829302\n",
              "KurtVCC    0.485275\n",
              "IVCCCV     0.207240\n",
              "SkewVCC    0.187644\n",
              "RMSCCV     0.161047\n",
              "TES        0.127765\n",
              "TCT        0.118981\n",
              "SkewCCV    0.116699\n",
              "ACCV       0.108313\n",
              "KurtCCV    0.054186\n",
              "Name: soh, dtype: float64"
            ],
            "text/html": [
              "<div>\n",
              "<style scoped>\n",
              "    .dataframe tbody tr th:only-of-type {\n",
              "        vertical-align: middle;\n",
              "    }\n",
              "\n",
              "    .dataframe tbody tr th {\n",
              "        vertical-align: top;\n",
              "    }\n",
              "\n",
              "    .dataframe thead th {\n",
              "        text-align: right;\n",
              "    }\n",
              "</style>\n",
              "<table border=\"1\" class=\"dataframe\">\n",
              "  <thead>\n",
              "    <tr style=\"text-align: right;\">\n",
              "      <th></th>\n",
              "      <th>soh</th>\n",
              "    </tr>\n",
              "  </thead>\n",
              "  <tbody>\n",
              "    <tr>\n",
              "      <th>soh</th>\n",
              "      <td>1.000000</td>\n",
              "    </tr>\n",
              "    <tr>\n",
              "      <th>CCCT</th>\n",
              "      <td>0.979649</td>\n",
              "    </tr>\n",
              "    <tr>\n",
              "      <th>IVCC</th>\n",
              "      <td>0.979112</td>\n",
              "    </tr>\n",
              "    <tr>\n",
              "      <th>RMSVCC</th>\n",
              "      <td>0.887104</td>\n",
              "    </tr>\n",
              "    <tr>\n",
              "      <th>AVCC</th>\n",
              "      <td>0.885703</td>\n",
              "    </tr>\n",
              "    <tr>\n",
              "      <th>CVCT</th>\n",
              "      <td>0.829302</td>\n",
              "    </tr>\n",
              "    <tr>\n",
              "      <th>KurtVCC</th>\n",
              "      <td>0.485275</td>\n",
              "    </tr>\n",
              "    <tr>\n",
              "      <th>IVCCCV</th>\n",
              "      <td>0.207240</td>\n",
              "    </tr>\n",
              "    <tr>\n",
              "      <th>SkewVCC</th>\n",
              "      <td>0.187644</td>\n",
              "    </tr>\n",
              "    <tr>\n",
              "      <th>RMSCCV</th>\n",
              "      <td>0.161047</td>\n",
              "    </tr>\n",
              "    <tr>\n",
              "      <th>TES</th>\n",
              "      <td>0.127765</td>\n",
              "    </tr>\n",
              "    <tr>\n",
              "      <th>TCT</th>\n",
              "      <td>0.118981</td>\n",
              "    </tr>\n",
              "    <tr>\n",
              "      <th>SkewCCV</th>\n",
              "      <td>0.116699</td>\n",
              "    </tr>\n",
              "    <tr>\n",
              "      <th>ACCV</th>\n",
              "      <td>0.108313</td>\n",
              "    </tr>\n",
              "    <tr>\n",
              "      <th>KurtCCV</th>\n",
              "      <td>0.054186</td>\n",
              "    </tr>\n",
              "  </tbody>\n",
              "</table>\n",
              "</div><br><label><b>dtype:</b> float64</label>"
            ]
          },
          "metadata": {},
          "execution_count": 9
        }
      ]
    },
    {
      "cell_type": "markdown",
      "source": [
        "# Model uses all features"
      ],
      "metadata": {
        "id": "hKH7e0xo45lT"
      }
    },
    {
      "cell_type": "code",
      "execution_count": 10,
      "metadata": {
        "colab": {
          "base_uri": "https://localhost:8080/"
        },
        "id": "4uITZ18arzSZ",
        "outputId": "7d3adb2a-d8de-44dc-f543-bdd83314c02d",
        "collapsed": true
      },
      "outputs": [
        {
          "output_type": "stream",
          "name": "stdout",
          "text": [
            "Training Decision Tree...\n",
            "DecisionTreeRegressor(min_samples_leaf=2, min_samples_split=10, random_state=42)\n"
          ]
        }
      ],
      "source": [
        "import pandas as pd\n",
        "import numpy as np\n",
        "import matplotlib.pyplot as plt\n",
        "from sklearn.model_selection import train_test_split\n",
        "from sklearn.tree import DecisionTreeRegressor\n",
        "from sklearn.ensemble import RandomForestRegressor\n",
        "from xgboost import XGBRegressor\n",
        "from sklearn.metrics import mean_absolute_error, mean_squared_error, r2_score\n",
        "from sklearn.preprocessing import StandardScaler\n",
        "from sklearn.model_selection import GridSearchCV\n",
        "\n",
        "# Load dataset\n",
        "# data = pd.read_csv('B6_no_outliers.csv')\n",
        "\n",
        "# Select features and target\n",
        "features = ['CVCT', 'CCCT', 'TCT', 'AVCC', 'ACCV', 'TES', 'IVCC', 'IVCCCV',\n",
        "            'RMSVCC', 'SkewVCC', 'KurtVCC', 'RMSCCV', 'SkewCCV', 'KurtCCV']\n",
        "target = 'soh'\n",
        "\n",
        "X = data[features]\n",
        "y = data[target]\n",
        "\n",
        "# Split data into training and testing sets (80:20)\n",
        "X_train, X_test, y_train, y_test = train_test_split(X, y, test_size=0.2, random_state=42)\n",
        "\n",
        "# Standardize features\n",
        "scaler = StandardScaler()\n",
        "X_train_scaled = scaler.fit_transform(X_train)\n",
        "X_test_scaled = scaler.transform(X_test)\n",
        "\n",
        "# Function to evaluate models\n",
        "def evaluate_model(model, X_train, X_test, y_train, y_test):\n",
        "    # Training predictions\n",
        "    train_pred = model.predict(X_train)\n",
        "\n",
        "    # Testing predictions\n",
        "    test_pred = model.predict(X_test)\n",
        "\n",
        "    # Calculate metrics\n",
        "    metrics = {\n",
        "        'Train MAE': mean_absolute_error(y_train, train_pred),\n",
        "        'Test MAE': mean_absolute_error(y_test, test_pred),\n",
        "        'Train RMSE': np.sqrt(mean_squared_error(y_train, train_pred)),\n",
        "        'Test RMSE': np.sqrt(mean_squared_error(y_test, test_pred)),\n",
        "        'Train R2': r2_score(y_train, train_pred),\n",
        "        'Test R2': r2_score(y_test, test_pred)\n",
        "    }\n",
        "\n",
        "    return metrics, train_pred, test_pred\n",
        "\n",
        "# Function to plot results\n",
        "def plot_results(y_true, y_pred, title):\n",
        "    plt.figure(figsize=(5, 3))\n",
        "    plt.scatter(y_true, y_pred, alpha=0.5)\n",
        "    plt.plot([y_true.min(), y_true.max()], [y_true.min(), y_true.max()], 'k--', lw=2)\n",
        "    plt.xlabel('Actual SoH')\n",
        "    plt.ylabel('Estimated SoH')\n",
        "    plt.title(title)\n",
        "    plt.grid(True)\n",
        "    plt.show()\n",
        "\n",
        "# 1. Decision Tree\n",
        "print(\"Training Decision Tree...\")\n",
        "dt_params = {\n",
        "    'max_depth': [None, 5, 10, 15],\n",
        "    'min_samples_split': [2, 5, 10],\n",
        "    'min_samples_leaf': [1, 2, 4]\n",
        "}\n",
        "\n",
        "dt = DecisionTreeRegressor(random_state=42)\n",
        "dt_grid = GridSearchCV(dt, dt_params, cv=5, scoring='neg_mean_squared_error')\n",
        "dt_grid.fit(X_train_scaled, y_train)\n",
        "best_dt = dt_grid.best_estimator_\n",
        "\n",
        "print(best_dt)"
      ]
    },
    {
      "cell_type": "code",
      "source": [
        "dt_metrics, dt_train_pred, dt_test_pred = evaluate_model(best_dt, X_train_scaled, X_test_scaled, y_train, y_test)\n",
        "\n",
        "# Display results\n",
        "results = pd.DataFrame({\n",
        "    'Decision Tree': dt_metrics\n",
        "    # 'Random Forest': rf_metrics,\n",
        "    # 'XGBoost': xgb_metrics\n",
        "})\n",
        "\n",
        "print(\"\\nModel Performance Comparison:\")\n",
        "print(results)\n",
        "\n"
      ],
      "metadata": {
        "colab": {
          "base_uri": "https://localhost:8080/"
        },
        "collapsed": true,
        "id": "KXsSJTTsloI1",
        "outputId": "05e4020d-90d1-4fcf-d1f5-ab7d2f8c58ce"
      },
      "execution_count": 12,
      "outputs": [
        {
          "output_type": "stream",
          "name": "stdout",
          "text": [
            "\n",
            "Model Performance Comparison:\n",
            "            Decision Tree\n",
            "Train MAE        0.005684\n",
            "Test MAE         0.014019\n",
            "Train RMSE       0.007828\n",
            "Test RMSE        0.020749\n",
            "Train R2         0.994977\n",
            "Test R2          0.961373\n"
          ]
        }
      ]
    },
    {
      "cell_type": "code",
      "source": [
        "# Plot results\n",
        "plot_results(y_train, dt_train_pred, 'Decision Tree - Training Set')\n",
        "plot_results(y_test, dt_test_pred, 'Decision Tree - Testing Set')"
      ],
      "metadata": {
        "colab": {
          "base_uri": "https://localhost:8080/",
          "height": 649
        },
        "collapsed": true,
        "id": "BJU-KYt2lqrL",
        "outputId": "690071bb-d136-476f-f6b1-2210f29aefe0"
      },
      "execution_count": 13,
      "outputs": [
        {
          "output_type": "display_data",
          "data": {
            "text/plain": [
              "<Figure size 500x300 with 1 Axes>"
            ],
            "image/png": "[encoded data removed]"
          },
          "metadata": {}
        },
        {
          "output_type": "display_data",
          "data": {
            "text/plain": [
              "<Figure size 500x300 with 1 Axes>"
            ],
            "image/png": "[encoded data removed]"
          },
          "metadata": {}
        }
      ]
    }
  ]
}