{
  "nbformat": 4,
  "nbformat_minor": 0,
  "metadata": {
    "colab": {
      "provenance": []
    },
    "kernelspec": {
      "name": "python3",
      "display_name": "Python 3"
    },
    "language_info": {
      "name": "python"
    }
  },
  "cells": [
    {
      "cell_type": "markdown",
      "source": [
        "# PYTHON CODE FOR FEATURE SELECTION USING SFS FOR REGRESSION"
      ],
      "metadata": {
        "id": "tXIvcfjBmM5t"
      }
    },
    {
      "cell_type": "markdown",
      "source": [
        "# Read Dataset"
      ],
      "metadata": {
        "id": "Hp7dZBm_mUEV"
      }
    },
    {
      "cell_type": "code",
      "execution_count": null,
      "metadata": {
        "id": "DdP1M6m6mITs",
        "colab": {
          "base_uri": "https://localhost:8080/",
          "height": 423
        },
        "outputId": "576d636c-d15c-4afd-f658-5c41a76b8b58"
      },
      "outputs": [
        {
          "output_type": "execute_result",
          "data": {
            "text/plain": [
              "       longitude  latitude  housing_median_age  total_rooms  total_bedrooms  \\\n",
              "0        -114.31     34.19                15.0       5612.0          1283.0   \n",
              "1        -114.47     34.40                19.0       7650.0          1901.0   \n",
              "2        -114.56     33.69                17.0        720.0           174.0   \n",
              "3        -114.57     33.64                14.0       1501.0           337.0   \n",
              "4        -114.57     33.57                20.0       1454.0           326.0   \n",
              "...          ...       ...                 ...          ...             ...   \n",
              "16995    -124.26     40.58                52.0       2217.0           394.0   \n",
              "16996    -124.27     40.69                36.0       2349.0           528.0   \n",
              "16997    -124.30     41.84                17.0       2677.0           531.0   \n",
              "16998    -124.30     41.80                19.0       2672.0           552.0   \n",
              "16999    -124.35     40.54                52.0       1820.0           300.0   \n",
              "\n",
              "       population  households  median_income  median_house_value  \n",
              "0          1015.0       472.0         1.4936             66900.0  \n",
              "1          1129.0       463.0         1.8200             80100.0  \n",
              "2           333.0       117.0         1.6509             85700.0  \n",
              "3           515.0       226.0         3.1917             73400.0  \n",
              "4           624.0       262.0         1.9250             65500.0  \n",
              "...           ...         ...            ...                 ...  \n",
              "16995       907.0       369.0         2.3571            111400.0  \n",
              "16996      1194.0       465.0         2.5179             79000.0  \n",
              "16997      1244.0       456.0         3.0313            103600.0  \n",
              "16998      1298.0       478.0         1.9797             85800.0  \n",
              "16999       806.0       270.0         3.0147             94600.0  \n",
              "\n",
              "[17000 rows x 9 columns]"
            ],
            "text/html": [
              "\n",
              "\n",
              "  <div id=\"df-a5be8082-c05d-4f34-bf1e-7c4016bbcf7d\">\n",
              "    <div class=\"colab-df-container\">\n",
              "      <div>\n",
              "<style scoped>\n",
              "    .dataframe tbody tr th:only-of-type {\n",
              "        vertical-align: middle;\n",
              "    }\n",
              "\n",
              "    .dataframe tbody tr th {\n",
              "        vertical-align: top;\n",
              "    }\n",
              "\n",
              "    .dataframe thead th {\n",
              "        text-align: right;\n",
              "    }\n",
              "</style>\n",
              "<table border=\"1\" class=\"dataframe\">\n",
              "  <thead>\n",
              "    <tr style=\"text-align: right;\">\n",
              "      <th></th>\n",
              "      <th>longitude</th>\n",
              "      <th>latitude</th>\n",
              "      <th>housing_median_age</th>\n",
              "      <th>total_rooms</th>\n",
              "      <th>total_bedrooms</th>\n",
              "      <th>population</th>\n",
              "      <th>households</th>\n",
              "      <th>median_income</th>\n",
              "      <th>median_house_value</th>\n",
              "    </tr>\n",
              "  </thead>\n",
              "  <tbody>\n",
              "    <tr>\n",
              "      <th>0</th>\n",
              "      <td>-114.31</td>\n",
              "      <td>34.19</td>\n",
              "      <td>15.0</td>\n",
              "      <td>5612.0</td>\n",
              "      <td>1283.0</td>\n",
              "      <td>1015.0</td>\n",
              "      <td>472.0</td>\n",
              "      <td>1.4936</td>\n",
              "      <td>66900.0</td>\n",
              "    </tr>\n",
              "    <tr>\n",
              "      <th>1</th>\n",
              "      <td>-114.47</td>\n",
              "      <td>34.40</td>\n",
              "      <td>19.0</td>\n",
              "      <td>7650.0</td>\n",
              "      <td>1901.0</td>\n",
              "      <td>1129.0</td>\n",
              "      <td>463.0</td>\n",
              "      <td>1.8200</td>\n",
              "      <td>80100.0</td>\n",
              "    </tr>\n",
              "    <tr>\n",
              "      <th>2</th>\n",
              "      <td>-114.56</td>\n",
              "      <td>33.69</td>\n",
              "      <td>17.0</td>\n",
              "      <td>720.0</td>\n",
              "      <td>174.0</td>\n",
              "      <td>333.0</td>\n",
              "      <td>117.0</td>\n",
              "      <td>1.6509</td>\n",
              "      <td>85700.0</td>\n",
              "    </tr>\n",
              "    <tr>\n",
              "      <th>3</th>\n",
              "      <td>-114.57</td>\n",
              "      <td>33.64</td>\n",
              "      <td>14.0</td>\n",
              "      <td>1501.0</td>\n",
              "      <td>337.0</td>\n",
              "      <td>515.0</td>\n",
              "      <td>226.0</td>\n",
              "      <td>3.1917</td>\n",
              "      <td>73400.0</td>\n",
              "    </tr>\n",
              "    <tr>\n",
              "      <th>4</th>\n",
              "      <td>-114.57</td>\n",
              "      <td>33.57</td>\n",
              "      <td>20.0</td>\n",
              "      <td>1454.0</td>\n",
              "      <td>326.0</td>\n",
              "      <td>624.0</td>\n",
              "      <td>262.0</td>\n",
              "      <td>1.9250</td>\n",
              "      <td>65500.0</td>\n",
              "    </tr>\n",
              "    <tr>\n",
              "      <th>...</th>\n",
              "      <td>...</td>\n",
              "      <td>...</td>\n",
              "      <td>...</td>\n",
              "      <td>...</td>\n",
              "      <td>...</td>\n",
              "      <td>...</td>\n",
              "      <td>...</td>\n",
              "      <td>...</td>\n",
              "      <td>...</td>\n",
              "    </tr>\n",
              "    <tr>\n",
              "      <th>16995</th>\n",
              "      <td>-124.26</td>\n",
              "      <td>40.58</td>\n",
              "      <td>52.0</td>\n",
              "      <td>2217.0</td>\n",
              "      <td>394.0</td>\n",
              "      <td>907.0</td>\n",
              "      <td>369.0</td>\n",
              "      <td>2.3571</td>\n",
              "      <td>111400.0</td>\n",
              "    </tr>\n",
              "    <tr>\n",
              "      <th>16996</th>\n",
              "      <td>-124.27</td>\n",
              "      <td>40.69</td>\n",
              "      <td>36.0</td>\n",
              "      <td>2349.0</td>\n",
              "      <td>528.0</td>\n",
              "      <td>1194.0</td>\n",
              "      <td>465.0</td>\n",
              "      <td>2.5179</td>\n",
              "      <td>79000.0</td>\n",
              "    </tr>\n",
              "    <tr>\n",
              "      <th>16997</th>\n",
              "      <td>-124.30</td>\n",
              "      <td>41.84</td>\n",
              "      <td>17.0</td>\n",
              "      <td>2677.0</td>\n",
              "      <td>531.0</td>\n",
              "      <td>1244.0</td>\n",
              "      <td>456.0</td>\n",
              "      <td>3.0313</td>\n",
              "      <td>103600.0</td>\n",
              "    </tr>\n",
              "    <tr>\n",
              "      <th>16998</th>\n",
              "      <td>-124.30</td>\n",
              "      <td>41.80</td>\n",
              "      <td>19.0</td>\n",
              "      <td>2672.0</td>\n",
              "      <td>552.0</td>\n",
              "      <td>1298.0</td>\n",
              "      <td>478.0</td>\n",
              "      <td>1.9797</td>\n",
              "      <td>85800.0</td>\n",
              "    </tr>\n",
              "    <tr>\n",
              "      <th>16999</th>\n",
              "      <td>-124.35</td>\n",
              "      <td>40.54</td>\n",
              "      <td>52.0</td>\n",
              "      <td>1820.0</td>\n",
              "      <td>300.0</td>\n",
              "      <td>806.0</td>\n",
              "      <td>270.0</td>\n",
              "      <td>3.0147</td>\n",
              "      <td>94600.0</td>\n",
              "    </tr>\n",
              "  </tbody>\n",
              "</table>\n",
              "<p>17000 rows × 9 columns</p>\n",
              "</div>\n",
              "      <button class=\"colab-df-convert\" onclick=\"convertToInteractive('df-a5be8082-c05d-4f34-bf1e-7c4016bbcf7d')\"\n",
              "              title=\"Convert this dataframe to an interactive table.\"\n",
              "              style=\"display:none;\">\n",
              "\n",
              "  <svg xmlns=\"http://www.w3.org/2000/svg\" height=\"24px\"viewBox=\"0 0 24 24\"\n",
              "       width=\"24px\">\n",
              "    <path d=\"M0 0h24v24H0V0z\" fill=\"none\"/>\n",
              "    <path d=\"M18.56 5.44l.94 2.06.94-2.06 2.06-.94-2.06-.94-.94-2.06-.94 2.06-2.06.94zm-11 1L8.5 8.5l.94-2.06 2.06-.94-2.06-.94L8.5 2.5l-.94 2.06-2.06.94zm10 10l.94 2.06.94-2.06 2.06-.94-2.06-.94-.94-2.06-.94 2.06-2.06.94z\"/><path d=\"M17.41 7.96l-1.37-1.37c-.4-.4-.92-.59-1.43-.59-.52 0-1.04.2-1.43.59L10.3 9.45l-7.72 7.72c-.78.78-.78 2.05 0 2.83L4 21.41c.39.39.9.59 1.41.59.51 0 1.02-.2 1.41-.59l7.78-7.78 2.81-2.81c.8-.78.8-2.07 0-2.86zM5.41 20L4 18.59l7.72-7.72 1.47 1.35L5.41 20z\"/>\n",
              "  </svg>\n",
              "      </button>\n",
              "\n",
              "\n",
              "\n",
              "    <div id=\"df-f7612771-1414-43db-bdbe-c53a7d53db18\">\n",
              "      <button class=\"colab-df-quickchart\" onclick=\"quickchart('df-f7612771-1414-43db-bdbe-c53a7d53db18')\"\n",
              "              title=\"Suggest charts.\"\n",
              "              style=\"display:none;\">\n",
              "\n",
              "<svg xmlns=\"http://www.w3.org/2000/svg\" height=\"24px\"viewBox=\"0 0 24 24\"\n",
              "     width=\"24px\">\n",
              "    <g>\n",
              "        <path d=\"M19 3H5c-1.1 0-2 .9-2 2v14c0 1.1.9 2 2 2h14c1.1 0 2-.9 2-2V5c0-1.1-.9-2-2-2zM9 17H7v-7h2v7zm4 0h-2V7h2v10zm4 0h-2v-4h2v4z\"/>\n",
              "    </g>\n",
              "</svg>\n",
              "      </button>\n",
              "    </div>\n",
              "\n",
              "<style>\n",
              "  .colab-df-quickchart {\n",
              "    background-color: #E8F0FE;\n",
              "    border: none;\n",
              "    border-radius: 50%;\n",
              "    cursor: pointer;\n",
              "    display: none;\n",
              "    fill: #1967D2;\n",
              "    height: 32px;\n",
              "    padding: 0 0 0 0;\n",
              "    width: 32px;\n",
              "  }\n",
              "\n",
              "  .colab-df-quickchart:hover {\n",
              "    background-color: #E2EBFA;\n",
              "    box-shadow: 0px 1px 2px rgba(60, 64, 67, 0.3), 0px 1px 3px 1px rgba(60, 64, 67, 0.15);\n",
              "    fill: #174EA6;\n",
              "  }\n",
              "\n",
              "  [theme=dark] .colab-df-quickchart {\n",
              "    background-color: #3B4455;\n",
              "    fill: #D2E3FC;\n",
              "  }\n",
              "\n",
              "  [theme=dark] .colab-df-quickchart:hover {\n",
              "    background-color: #434B5C;\n",
              "    box-shadow: 0px 1px 3px 1px rgba(0, 0, 0, 0.15);\n",
              "    filter: drop-shadow(0px 1px 2px rgba(0, 0, 0, 0.3));\n",
              "    fill: #FFFFFF;\n",
              "  }\n",
              "</style>\n",
              "\n",
              "    <script>\n",
              "      async function quickchart(key) {\n",
              "        const containerElement = document.querySelector('#' + key);\n",
              "        const charts = await google.colab.kernel.invokeFunction(\n",
              "            'suggestCharts', [key], {});\n",
              "      }\n",
              "    </script>\n",
              "\n",
              "      <script>\n",
              "\n",
              "function displayQuickchartButton(domScope) {\n",
              "  let quickchartButtonEl =\n",
              "    domScope.querySelector('#df-f7612771-1414-43db-bdbe-c53a7d53db18 button.colab-df-quickchart');\n",
              "  quickchartButtonEl.style.display =\n",
              "    google.colab.kernel.accessAllowed ? 'block' : 'none';\n",
              "}\n",
              "\n",
              "        displayQuickchartButton(document);\n",
              "      </script>\n",
              "      <style>\n",
              "    .colab-df-container {\n",
              "      display:flex;\n",
              "      flex-wrap:wrap;\n",
              "      gap: 12px;\n",
              "    }\n",
              "\n",
              "    .colab-df-convert {\n",
              "      background-color: #E8F0FE;\n",
              "      border: none;\n",
              "      border-radius: 50%;\n",
              "      cursor: pointer;\n",
              "      display: none;\n",
              "      fill: #1967D2;\n",
              "      height: 32px;\n",
              "      padding: 0 0 0 0;\n",
              "      width: 32px;\n",
              "    }\n",
              "\n",
              "    .colab-df-convert:hover {\n",
              "      background-color: #E2EBFA;\n",
              "      box-shadow: 0px 1px 2px rgba(60, 64, 67, 0.3), 0px 1px 3px 1px rgba(60, 64, 67, 0.15);\n",
              "      fill: #174EA6;\n",
              "    }\n",
              "\n",
              "    [theme=dark] .colab-df-convert {\n",
              "      background-color: #3B4455;\n",
              "      fill: #D2E3FC;\n",
              "    }\n",
              "\n",
              "    [theme=dark] .colab-df-convert:hover {\n",
              "      background-color: #434B5C;\n",
              "      box-shadow: 0px 1px 3px 1px rgba(0, 0, 0, 0.15);\n",
              "      filter: drop-shadow(0px 1px 2px rgba(0, 0, 0, 0.3));\n",
              "      fill: #FFFFFF;\n",
              "    }\n",
              "  </style>\n",
              "\n",
              "      <script>\n",
              "        const buttonEl =\n",
              "          document.querySelector('#df-a5be8082-c05d-4f34-bf1e-7c4016bbcf7d button.colab-df-convert');\n",
              "        buttonEl.style.display =\n",
              "          google.colab.kernel.accessAllowed ? 'block' : 'none';\n",
              "\n",
              "        async function convertToInteractive(key) {\n",
              "          const element = document.querySelector('#df-a5be8082-c05d-4f34-bf1e-7c4016bbcf7d');\n",
              "          const dataTable =\n",
              "            await google.colab.kernel.invokeFunction('convertToInteractive',\n",
              "                                                     [key], {});\n",
              "          if (!dataTable) return;\n",
              "\n",
              "          const docLinkHtml = 'Like what you see? Visit the ' +\n",
              "            '<a target=\"_blank\" href=https://colab.research.google.com/notebooks/data_table.ipynb>data table notebook</a>'\n",
              "            + ' to learn more about interactive tables.';\n",
              "          element.innerHTML = '';\n",
              "          dataTable['output_type'] = 'display_data';\n",
              "          await google.colab.output.renderOutput(dataTable, element);\n",
              "          const docLink = document.createElement('div');\n",
              "          docLink.innerHTML = docLinkHtml;\n",
              "          element.appendChild(docLink);\n",
              "        }\n",
              "      </script>\n",
              "    </div>\n",
              "  </div>\n"
            ]
          },
          "metadata": {},
          "execution_count": 1
        }
      ],
      "source": [
        "import numpy as np\n",
        "import pandas as pd\n",
        "\n",
        "# Load the dataset\n",
        "df = pd.read_csv('sample_data/california_housing_train.csv')\n",
        "df"
      ]
    },
    {
      "cell_type": "code",
      "source": [
        "X = df.drop(['total_bedrooms'], axis=1)\n",
        "y = df['total_bedrooms']"
      ],
      "metadata": {
        "id": "IR-4zP1KfzW1"
      },
      "execution_count": null,
      "outputs": []
    },
    {
      "cell_type": "markdown",
      "source": [
        "# Feature Selection using SFS with Linear Regression as the Criterion Function"
      ],
      "metadata": {
        "id": "jhmOYrx_gcPL"
      }
    },
    {
      "cell_type": "code",
      "source": [
        "# Install mlxtend library (Optional)\n",
        "# pip install mlxtend --upgrade --no-deps"
      ],
      "metadata": {
        "id": "-eGq61aYggos"
      },
      "execution_count": null,
      "outputs": []
    },
    {
      "cell_type": "code",
      "source": [
        "from sklearn.linear_model import LinearRegression\n",
        "from mlxtend.feature_selection import SequentialFeatureSelector as SFS"
      ],
      "metadata": {
        "id": "bXIejc5agrv1"
      },
      "execution_count": null,
      "outputs": []
    },
    {
      "cell_type": "code",
      "source": [
        "# Informasi terkait scoring untuk regresi dapat dilihat di web\n",
        "# https://scikit-learn.org/stable/modules/model_evaluation.html\n",
        "# https://www.youtube.com/watch?v=0vCXcGJg5Bo\n",
        "lr = LinearRegression()\n",
        "\n",
        "sfs = SFS(lr,\n",
        "          k_features=2, # bisa pilih \"best\" saja atau angka\n",
        "          forward=True,\n",
        "          floating=True,\n",
        "          scoring='neg_mean_squared_error', # Default is neg_mean_squared_error, to use r square just write 'r2'\n",
        "          cv=10)\n",
        "\n",
        "sfs = sfs.fit(X, y)"
      ],
      "metadata": {
        "id": "xw73zkITg-ro"
      },
      "execution_count": null,
      "outputs": []
    },
    {
      "cell_type": "code",
      "source": [
        "# # Feature Selection using SFS with XGBoost as the Criterion Function (30 Minutes)\n",
        "# from xgboost import XGBRegressor\n",
        "# # Informasi terkait scoring untuk regresi dapat dilihat di web\n",
        "# # https://scikit-learn.org/stable/modules/model_evaluation.html\n",
        "\n",
        "# >>> xg = XGBRegressor(max_depth=3, learning_rate=0.1, n_estimators=500, objective='reg:linear', booster='gbtree')\n",
        "\n",
        "# >>> sfs = SFS(xg,\n",
        "#           k_features='best', # bisa pilih \"best\" saja atau angka\n",
        "#           forward=True,\n",
        "#           floating=True,\n",
        "#           scoring='neg_mean_squared_error', # Default is neg_mean_squared_error, to use r square just write 'r2'\n",
        "#           cv=10)\n",
        "\n",
        "# >>> sfs = sfs.fit(X, y)\n",
        "# >>> sfs.k_feature_idx_\n",
        "# (0, 3, 4, 5, 6)"
      ],
      "metadata": {
        "id": "7qqNsSSXiB_2"
      },
      "execution_count": null,
      "outputs": []
    },
    {
      "cell_type": "code",
      "source": [
        "sfs.k_feature_idx_"
      ],
      "metadata": {
        "colab": {
          "base_uri": "https://localhost:8080/"
        },
        "id": "0xHFkQJchL4_",
        "outputId": "974f3e39-469e-4601-b186-ed127960cf50"
      },
      "execution_count": null,
      "outputs": [
        {
          "output_type": "execute_result",
          "data": {
            "text/plain": [
              "(0, 1)"
            ]
          },
          "metadata": {},
          "execution_count": 52
        }
      ]
    },
    {
      "cell_type": "code",
      "source": [
        "X"
      ],
      "metadata": {
        "colab": {
          "base_uri": "https://localhost:8080/"
        },
        "id": "4wsWLPxsyef3",
        "outputId": "1aa047d5-087c-461b-9a0f-03755b0aeeee"
      },
      "execution_count": null,
      "outputs": [
        {
          "output_type": "execute_result",
          "data": {
            "text/plain": [
              "array([[5.6120e+03, 4.7200e+02, 1.4936e+00],\n",
              "       [7.6500e+03, 4.6300e+02, 1.8200e+00],\n",
              "       [7.2000e+02, 1.1700e+02, 1.6509e+00],\n",
              "       ...,\n",
              "       [2.6770e+03, 4.5600e+02, 3.0313e+00],\n",
              "       [2.6720e+03, 4.7800e+02, 1.9797e+00],\n",
              "       [1.8200e+03, 2.7000e+02, 3.0147e+00]])"
            ]
          },
          "metadata": {},
          "execution_count": 53
        }
      ]
    },
    {
      "cell_type": "code",
      "source": [
        "sfs.subsets_"
      ],
      "metadata": {
        "colab": {
          "base_uri": "https://localhost:8080/"
        },
        "id": "GUs4wI4QhRC4",
        "outputId": "0abb5368-5fc6-4633-df45-2d2bc5d2bf1a"
      },
      "execution_count": null,
      "outputs": [
        {
          "output_type": "execute_result",
          "data": {
            "text/plain": [
              "{1: {'feature_idx': (1,),\n",
              "  'cv_scores': array([-34676.36158406,  -4661.92500724,  -1569.47913939,  -1082.62139846,\n",
              "          -1855.5607668 ,  -5975.84454558, -11442.64531815,  -2157.01732337,\n",
              "          -1605.55163549,  -2903.60356147]),\n",
              "  'avg_score': -6793.061028000116,\n",
              "  'feature_names': ('1',)},\n",
              " 2: {'feature_idx': (0, 1),\n",
              "  'cv_scores': array([-30237.34844041,  -5376.26383543,  -1954.2921529 ,  -2160.34860316,\n",
              "          -3863.12417122,  -5632.17485084,  -8582.8165311 ,  -2881.64681405,\n",
              "          -2557.63326521,  -3055.99418453]),\n",
              "  'avg_score': -6630.164284885633,\n",
              "  'feature_names': ('0', '1')}}"
            ]
          },
          "metadata": {},
          "execution_count": 54
        }
      ]
    },
    {
      "cell_type": "markdown",
      "source": [
        "# Plot SFS Graph for Linear Regression Criterion Function"
      ],
      "metadata": {
        "id": "7T9-zEAUheyD"
      }
    },
    {
      "cell_type": "code",
      "source": [
        "from mlxtend.plotting import plot_sequential_feature_selection as plot_sfs\n",
        "import matplotlib.pyplot as plt\n",
        "fig = plot_sfs(sfs.get_metric_dict(), kind='std_err')\n",
        "\n",
        "plt.title('Sequential Forward Selection (w. StdErr)')\n",
        "plt.grid()\n",
        "plt.show()"
      ],
      "metadata": {
        "colab": {
          "base_uri": "https://localhost:8080/",
          "height": 472
        },
        "id": "G3gYxOMehg-7",
        "outputId": "fd89e951-19b5-467e-c6c8-5dfbfb7387ed"
      },
      "execution_count": null,
      "outputs": [
        {
          "output_type": "display_data",
          "data": {
            "text/plain": [
              "<Figure size 640x480 with 1 Axes>"
            ],
            "image/png": "[encoded data removed]"
          },
          "metadata": {}
        }
      ]
    },
    {
      "cell_type": "markdown",
      "source": [
        "# Transform Dataset into new Dataset with indexed from SFS"
      ],
      "metadata": {
        "id": "pGmj3pUWuTie"
      }
    },
    {
      "cell_type": "code",
      "source": [
        "df_new = sfs.transform(X)\n",
        "df_new"
      ],
      "metadata": {
        "colab": {
          "base_uri": "https://localhost:8080/"
        },
        "id": "JIYVLYTCjM4r",
        "outputId": "690584c4-4713-4f4b-9675-cff93ad673ac"
      },
      "execution_count": null,
      "outputs": [
        {
          "output_type": "execute_result",
          "data": {
            "text/plain": [
              "array([[5612.,  472.],\n",
              "       [7650.,  463.],\n",
              "       [ 720.,  117.],\n",
              "       ...,\n",
              "       [2677.,  456.],\n",
              "       [2672.,  478.],\n",
              "       [1820.,  270.]])"
            ]
          },
          "metadata": {},
          "execution_count": 56
        }
      ]
    },
    {
      "cell_type": "code",
      "source": [
        "X , y  = df_new, df['total_bedrooms']\n",
        "X"
      ],
      "metadata": {
        "id": "BXLWWiv8J9_l",
        "colab": {
          "base_uri": "https://localhost:8080/"
        },
        "outputId": "a989b2e3-7330-4e45-f78b-bfb93654b3ee"
      },
      "execution_count": null,
      "outputs": [
        {
          "output_type": "execute_result",
          "data": {
            "text/plain": [
              "array([[5612.,  472.],\n",
              "       [7650.,  463.],\n",
              "       [ 720.,  117.],\n",
              "       ...,\n",
              "       [2677.,  456.],\n",
              "       [2672.,  478.],\n",
              "       [1820.,  270.]])"
            ]
          },
          "metadata": {},
          "execution_count": 57
        }
      ]
    },
    {
      "cell_type": "code",
      "source": [
        "y"
      ],
      "metadata": {
        "id": "fVpcmqQEKe2M",
        "colab": {
          "base_uri": "https://localhost:8080/"
        },
        "outputId": "2a451b9f-e4a1-4fbe-8ced-622473781e5e"
      },
      "execution_count": null,
      "outputs": [
        {
          "output_type": "execute_result",
          "data": {
            "text/plain": [
              "0        1283.0\n",
              "1        1901.0\n",
              "2         174.0\n",
              "3         337.0\n",
              "4         326.0\n",
              "          ...  \n",
              "16995     394.0\n",
              "16996     528.0\n",
              "16997     531.0\n",
              "16998     552.0\n",
              "16999     300.0\n",
              "Name: total_bedrooms, Length: 17000, dtype: float64"
            ]
          },
          "metadata": {},
          "execution_count": 58
        }
      ]
    },
    {
      "cell_type": "markdown",
      "source": [
        "# Preprocessing Dataset"
      ],
      "metadata": {
        "id": "OFgsGvld5Mhx"
      }
    },
    {
      "cell_type": "code",
      "source": [
        "# Splitting X and y into training and testing sets\n",
        "from sklearn.model_selection import train_test_split\n",
        "X_train, X_test, y_train, y_test = train_test_split(X, y, test_size=0.33, random_state=42)"
      ],
      "metadata": {
        "id": "7zOLqwJV6ua-"
      },
      "execution_count": null,
      "outputs": []
    },
    {
      "cell_type": "code",
      "source": [
        "X_train # Dataframe"
      ],
      "metadata": {
        "id": "K6DBKe8q85d5",
        "colab": {
          "base_uri": "https://localhost:8080/"
        },
        "outputId": "384d2203-df97-4c9e-9809-76969c09677e"
      },
      "execution_count": null,
      "outputs": [
        {
          "output_type": "execute_result",
          "data": {
            "text/plain": [
              "array([[1280.,  252.],\n",
              "       [4712.,  615.],\n",
              "       [2781.,  729.],\n",
              "       ...,\n",
              "       [ 901.,  208.],\n",
              "       [3648.,  840.],\n",
              "       [2452.,  549.]])"
            ]
          },
          "metadata": {},
          "execution_count": 60
        }
      ]
    },
    {
      "cell_type": "code",
      "source": [
        "y_train"
      ],
      "metadata": {
        "id": "YLCfSrehWm51",
        "colab": {
          "base_uri": "https://localhost:8080/"
        },
        "outputId": "723f1714-0528-438d-fd2b-841dc450a070"
      },
      "execution_count": null,
      "outputs": [
        {
          "output_type": "execute_result",
          "data": {
            "text/plain": [
              "9432     240.0\n",
              "13901    624.0\n",
              "6832     766.0\n",
              "5226     374.0\n",
              "16888    506.0\n",
              "         ...  \n",
              "11284    475.0\n",
              "11964    144.0\n",
              "5390     205.0\n",
              "860      895.0\n",
              "15795    623.0\n",
              "Name: total_bedrooms, Length: 11390, dtype: float64"
            ]
          },
          "metadata": {},
          "execution_count": 61
        }
      ]
    },
    {
      "cell_type": "markdown",
      "source": [
        "# Modelling\n",
        "\n",
        "$Y = β_0 + β_1X + β_2X_2 + … + β_hX_h + ε$"
      ],
      "metadata": {
        "id": "FBUi7gU64hr4"
      }
    },
    {
      "cell_type": "code",
      "source": [
        "from sklearn.linear_model import LinearRegression\n",
        "\n",
        "# Create linear regression object\n",
        "model_lr = LinearRegression()\n",
        "\n",
        "# Train the model using the training sets\n",
        "model_lr.fit(X_train, y_train)"
      ],
      "metadata": {
        "id": "ZyDnQ7A44g3R",
        "colab": {
          "base_uri": "https://localhost:8080/",
          "height": 74
        },
        "outputId": "9adb5b55-2f59-42b1-a314-f847a3a46334"
      },
      "execution_count": null,
      "outputs": [
        {
          "output_type": "execute_result",
          "data": {
            "text/plain": [
              "LinearRegression()"
            ],
            "text/html": [
              "<style>#sk-container-id-3 {color: black;background-color: white;}#sk-container-id-3 pre{padding: 0;}#sk-container-id-3 div.sk-toggleable {background-color: white;}#sk-container-id-3 label.sk-toggleable__label {cursor: pointer;display: block;width: 100%;margin-bottom: 0;padding: 0.3em;box-sizing: border-box;text-align: center;}#sk-container-id-3 label.sk-toggleable__label-arrow:before {content: \"▸\";float: left;margin-right: 0.25em;color: #696969;}#sk-container-id-3 label.sk-toggleable__label-arrow:hover:before {color: black;}#sk-container-id-3 div.sk-estimator:hover label.sk-toggleable__label-arrow:before {color: black;}#sk-container-id-3 div.sk-toggleable__content {max-height: 0;max-width: 0;overflow: hidden;text-align: left;background-color: #f0f8ff;}#sk-container-id-3 div.sk-toggleable__content pre {margin: 0.2em;color: black;border-radius: 0.25em;background-color: #f0f8ff;}#sk-container-id-3 input.sk-toggleable__control:checked~div.sk-toggleable__content {max-height: 200px;max-width: 100%;overflow: auto;}#sk-container-id-3 input.sk-toggleable__control:checked~label.sk-toggleable__label-arrow:before {content: \"▾\";}#sk-container-id-3 div.sk-estimator input.sk-toggleable__control:checked~label.sk-toggleable__label {background-color: #d4ebff;}#sk-container-id-3 div.sk-label input.sk-toggleable__control:checked~label.sk-toggleable__label {background-color: #d4ebff;}#sk-container-id-3 input.sk-hidden--visually {border: 0;clip: rect(1px 1px 1px 1px);clip: rect(1px, 1px, 1px, 1px);height: 1px;margin: -1px;overflow: hidden;padding: 0;position: absolute;width: 1px;}#sk-container-id-3 div.sk-estimator {font-family: monospace;background-color: #f0f8ff;border: 1px dotted black;border-radius: 0.25em;box-sizing: border-box;margin-bottom: 0.5em;}#sk-container-id-3 div.sk-estimator:hover {background-color: #d4ebff;}#sk-container-id-3 div.sk-parallel-item::after {content: \"\";width: 100%;border-bottom: 1px solid gray;flex-grow: 1;}#sk-container-id-3 div.sk-label:hover label.sk-toggleable__label {background-color: #d4ebff;}#sk-container-id-3 div.sk-serial::before {content: \"\";position: absolute;border-left: 1px solid gray;box-sizing: border-box;top: 0;bottom: 0;left: 50%;z-index: 0;}#sk-container-id-3 div.sk-serial {display: flex;flex-direction: column;align-items: center;background-color: white;padding-right: 0.2em;padding-left: 0.2em;position: relative;}#sk-container-id-3 div.sk-item {position: relative;z-index: 1;}#sk-container-id-3 div.sk-parallel {display: flex;align-items: stretch;justify-content: center;background-color: white;position: relative;}#sk-container-id-3 div.sk-item::before, #sk-container-id-3 div.sk-parallel-item::before {content: \"\";position: absolute;border-left: 1px solid gray;box-sizing: border-box;top: 0;bottom: 0;left: 50%;z-index: -1;}#sk-container-id-3 div.sk-parallel-item {display: flex;flex-direction: column;z-index: 1;position: relative;background-color: white;}#sk-container-id-3 div.sk-parallel-item:first-child::after {align-self: flex-end;width: 50%;}#sk-container-id-3 div.sk-parallel-item:last-child::after {align-self: flex-start;width: 50%;}#sk-container-id-3 div.sk-parallel-item:only-child::after {width: 0;}#sk-container-id-3 div.sk-dashed-wrapped {border: 1px dashed gray;margin: 0 0.4em 0.5em 0.4em;box-sizing: border-box;padding-bottom: 0.4em;background-color: white;}#sk-container-id-3 div.sk-label label {font-family: monospace;font-weight: bold;display: inline-block;line-height: 1.2em;}#sk-container-id-3 div.sk-label-container {text-align: center;}#sk-container-id-3 div.sk-container {/* jupyter's `normalize.less` sets `[hidden] { display: none; }` but bootstrap.min.css set `[hidden] { display: none !important; }` so we also need the `!important` here to be able to override the default hidden behavior on the sphinx rendered scikit-learn.org. See: https://github.com/scikit-learn/scikit-learn/issues/21755 */display: inline-block !important;position: relative;}#sk-container-id-3 div.sk-text-repr-fallback {display: none;}</style><div id=\"sk-container-id-3\" class=\"sk-top-container\"><div class=\"sk-text-repr-fallback\"><pre>LinearRegression()</pre><b>In a Jupyter environment, please rerun this cell to show the HTML representation or trust the notebook. <br />On GitHub, the HTML representation is unable to render, please try loading this page with nbviewer.org.</b></div><div class=\"sk-container\" hidden><div class=\"sk-item\"><div class=\"sk-estimator sk-toggleable\"><input class=\"sk-toggleable__control sk-hidden--visually\" id=\"sk-estimator-id-3\" type=\"checkbox\" checked><label for=\"sk-estimator-id-3\" class=\"sk-toggleable__label sk-toggleable__label-arrow\">LinearRegression</label><div class=\"sk-toggleable__content\"><pre>LinearRegression()</pre></div></div></div></div></div>"
            ]
          },
          "metadata": {},
          "execution_count": 62
        }
      ]
    },
    {
      "cell_type": "code",
      "source": [
        "# Print The Regression Coefficients\n",
        "model_lr.coef_"
      ],
      "metadata": {
        "id": "Tler2fPzEEeT",
        "colab": {
          "base_uri": "https://localhost:8080/"
        },
        "outputId": "c1297b95-8041-46b3-afaa-4544b7609ce4"
      },
      "execution_count": null,
      "outputs": [
        {
          "output_type": "execute_result",
          "data": {
            "text/plain": [
              "array([0.03644297, 0.88575825])"
            ]
          },
          "metadata": {},
          "execution_count": 63
        }
      ]
    },
    {
      "cell_type": "code",
      "source": [
        "print('Coefficients: ', model_lr.coef_)"
      ],
      "metadata": {
        "id": "_gBF2r0SGf9-",
        "colab": {
          "base_uri": "https://localhost:8080/"
        },
        "outputId": "bfebc31b-e127-45cf-a3bb-514ab845af7e"
      },
      "execution_count": null,
      "outputs": [
        {
          "output_type": "stream",
          "name": "stdout",
          "text": [
            "Coefficients:  [0.03644297 0.88575825]\n"
          ]
        }
      ]
    },
    {
      "cell_type": "code",
      "source": [
        "# Print The Regression Intercept/Bias\n",
        "model_lr.intercept_"
      ],
      "metadata": {
        "id": "7kqzLfcjEH0w",
        "colab": {
          "base_uri": "https://localhost:8080/"
        },
        "outputId": "4d14a224-7570-4f2b-8278-eeffa2e694a3"
      },
      "execution_count": null,
      "outputs": [
        {
          "output_type": "execute_result",
          "data": {
            "text/plain": [
              "-0.39041089074419233"
            ]
          },
          "metadata": {},
          "execution_count": 65
        }
      ]
    },
    {
      "cell_type": "code",
      "source": [
        "print('Intercept: ', model_lr.intercept_)"
      ],
      "metadata": {
        "id": "SWrcz9KFaA0G",
        "colab": {
          "base_uri": "https://localhost:8080/"
        },
        "outputId": "fcfce84b-341e-4051-a274-d55b6030e5da"
      },
      "execution_count": null,
      "outputs": [
        {
          "output_type": "stream",
          "name": "stdout",
          "text": [
            "Intercept:  -0.39041089074419233\n"
          ]
        }
      ]
    },
    {
      "cell_type": "markdown",
      "source": [
        "# Testing the Model"
      ],
      "metadata": {
        "id": "spLUIi6J46LH"
      }
    },
    {
      "cell_type": "code",
      "source": [
        "y_tr_pred = model_lr.predict(X_train)\n",
        "y_tr_pred"
      ],
      "metadata": {
        "id": "1k6nYvfi4-y8",
        "colab": {
          "base_uri": "https://localhost:8080/"
        },
        "outputId": "dfb2144d-8092-4ff2-a6fe-f69c3d852aec"
      },
      "execution_count": null,
      "outputs": [
        {
          "output_type": "execute_result",
          "data": {
            "text/plain": [
              "array([269.46767092, 716.07019318, 746.67525485, ..., 216.68242181,\n",
              "       876.59047665, 575.24903286])"
            ]
          },
          "metadata": {},
          "execution_count": 67
        }
      ]
    },
    {
      "cell_type": "code",
      "source": [
        "y_te_pred = model_lr.predict(X_test)\n",
        "y_te_pred"
      ],
      "metadata": {
        "id": "EuV81Vd0-Pdv",
        "colab": {
          "base_uri": "https://localhost:8080/"
        },
        "outputId": "1d9a24d8-f5fa-4ec6-d7c0-ba9926cac2dd"
      },
      "execution_count": null,
      "outputs": [
        {
          "output_type": "execute_result",
          "data": {
            "text/plain": [
              "array([ 993.47554741,  466.24013144,  752.00429684, ...,  498.17081413,\n",
              "       1476.45673526,  358.17119763])"
            ]
          },
          "metadata": {},
          "execution_count": 68
        }
      ]
    },
    {
      "cell_type": "markdown",
      "source": [
        "# Performance Evaluation Model"
      ],
      "metadata": {
        "id": "sVYJu6vz42ay"
      }
    },
    {
      "cell_type": "code",
      "source": [
        "from sklearn.metrics import mean_squared_error, r2_score, mean_absolute_error, mean_absolute_percentage_error\n",
        "import numpy as np\n",
        "\n",
        "# Performance Evaluation on Training Data\n",
        "lr_train_rms = np.sqrt(mean_squared_error(y_tr_pred,y_train))\n",
        "lr_train_r2 = r2_score(y_tr_pred,y_train)\n",
        "# lr_train_mae = mean_absolute_error(y_tr_pred,y_train)\n",
        "# lr_train_mape = mean_absolute_percentage_error(y_tr_pred,y_train)\n",
        "lr_train_mse = mean_squared_error(y_tr_pred,y_train)\n",
        "\n",
        "print('Root Mean Square Error: ', lr_train_rms)\n",
        "print('R2 Scored: ', lr_train_r2)\n",
        "# print('Mean Absolute Error: ', lr_train_mae)\n",
        "# print('Mean Absolute Percentage Error: ', lr_train_mape)\n",
        "print('Mean Square Error: ', lr_train_mse)"
      ],
      "metadata": {
        "id": "YBv_0lA_45kX",
        "colab": {
          "base_uri": "https://localhost:8080/"
        },
        "outputId": "af3dc7ad-8a08-49e2-c699-5a9635f855d2"
      },
      "execution_count": null,
      "outputs": [
        {
          "output_type": "stream",
          "name": "stdout",
          "text": [
            "Root Mean Square Error:  80.2609503196811\n",
            "R2 Scored:  0.9635621651728141\n",
            "Mean Square Error:  6441.820146218318\n"
          ]
        }
      ]
    },
    {
      "cell_type": "code",
      "source": [
        "# Performance Evaluation on Testing Data\n",
        "lr_test_rms = np.sqrt(mean_squared_error(y_te_pred,y_test))\n",
        "lr_test_r2 = r2_score(y_te_pred,y_test)\n",
        "# lr_test_mae = mean_absolute_error(y_te_pred,y_test)\n",
        "# lr_test_mape = mean_absolute_percentage_error(y_te_pred,y_test)\n",
        "lr_test_mse = mean_squared_error(y_te_pred,y_test)\n",
        "\n",
        "print('Root Mean Square Error: ', lr_test_rms)\n",
        "print('R2 Scored: ', lr_test_r2)\n",
        "# print('Mean Absolute Error: ', lr_test_mae)\n",
        "# print('Mean Absolute Percentage Error: ', lr_test_mape)\n",
        "print('Mean Square Error: ', lr_test_mse)"
      ],
      "metadata": {
        "id": "oEEXWJvW-6Bq",
        "colab": {
          "base_uri": "https://localhost:8080/"
        },
        "outputId": "a9eb926a-1c0d-4878-e725-12adb951fb1b"
      },
      "execution_count": null,
      "outputs": [
        {
          "output_type": "stream",
          "name": "stdout",
          "text": [
            "Root Mean Square Error:  69.1235200858151\n",
            "R2 Scored:  0.9705762024542627\n",
            "Mean Square Error:  4778.0610290540835\n"
          ]
        }
      ]
    },
    {
      "cell_type": "markdown",
      "source": [
        "# Plotting the Result"
      ],
      "metadata": {
        "id": "6WG-k6o9AXG8"
      }
    },
    {
      "cell_type": "code",
      "source": [
        "plt.figure(figsize=(7, 7))\n",
        "plt.scatter(y_train,y_tr_pred, label='Data Training')\n",
        "plt.scatter(y_test,y_te_pred, label='Data Testing')\n",
        "plt.plot([1,7000],[1,7000])\n",
        "\n",
        "plt.xlabel('Actual')\n",
        "plt.ylabel('Prediction')\n",
        "plt.legend()\n",
        "plt.show()"
      ],
      "metadata": {
        "id": "vBw2Abl4AWnN",
        "colab": {
          "base_uri": "https://localhost:8080/",
          "height": 619
        },
        "outputId": "d8188087-0689-4465-ca40-66ab299021cc"
      },
      "execution_count": null,
      "outputs": [
        {
          "output_type": "display_data",
          "data": {
            "text/plain": [
              "<Figure size 700x700 with 1 Axes>"
            ],
            "image/png": "[encoded data removed]"
          },
          "metadata": {}
        }
      ]
    }
  ]
}